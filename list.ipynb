{
 "cells": [
  {
   "cell_type": "code",
   "execution_count": 17,
   "metadata": {},
   "outputs": [
    {
     "name": "stdout",
     "output_type": "stream",
     "text": [
      "linkedin\n",
      "git hub\n",
      "castle\n"
     ]
    }
   ],
   "source": [
    "# indexing \n",
    "apps = ['facebook','instagram','flipkart','git hub','linkedin','twitter','castle','hotstar','play store']\n",
    "print(apps[4])\n",
    "print(apps[3])\n",
    "print(apps[-3])"
   ]
  },
  {
   "cell_type": "code",
   "execution_count": 18,
   "metadata": {},
   "outputs": [
    {
     "name": "stdout",
     "output_type": "stream",
     "text": [
      "['facebook', 'instagram', 'flipkart']\n",
      "['facebook', 'flipkart', 'linkedin', 'castle', 'play store']\n",
      "['facebook', 'instagram', 'flipkart', 'git hub', 'linkedin']\n",
      "['facebook', 'instagram', 'flipkart', 'git hub', 'linkedin', 'twitter', 'castle', 'hotstar', 'play store']\n",
      "['facebook', 'flipkart', 'linkedin', 'castle', 'play store']\n"
     ]
    }
   ],
   "source": [
    "print(apps[0:3])\n",
    "print(apps[0:10:2])\n",
    "print(apps[:5])\n",
    "print(apps[:])\n",
    "print(apps[::2])"
   ]
  },
  {
   "cell_type": "code",
   "execution_count": 19,
   "metadata": {},
   "outputs": [
    {
     "name": "stdout",
     "output_type": "stream",
     "text": [
      "['facebook', 'instagram', 'flipkart', 'git hub', 'linkedin', 'twitter', 'castle', 'hotstar', 'play store']\n"
     ]
    }
   ],
   "source": [
    "print(apps)"
   ]
  },
  {
   "cell_type": "code",
   "execution_count": 20,
   "metadata": {},
   "outputs": [
    {
     "name": "stdout",
     "output_type": "stream",
     "text": [
      "['facebook', 'instagram', 'flipkart', 'git hub', 'linkedin', 'twitter', 'castle', 'hotstar', 'play store', 'tinder']\n"
     ]
    }
   ],
   "source": [
    "# to add an element\n",
    "apps.append('tinder')\n",
    "print(apps)"
   ]
  },
  {
   "cell_type": "code",
   "execution_count": 23,
   "metadata": {},
   "outputs": [
    {
     "name": "stdout",
     "output_type": "stream",
     "text": [
      "['facebook', 'instagram', 'flipkart', 'tinder', 'git hub', 'linkedin', 'twitter', 'castle', 'hotstar', 'play store', 'tinder']\n"
     ]
    }
   ],
   "source": [
    "# to add an elemnet at the given position\n",
    "apps.insert(3,'tinder')\n",
    "print(apps)"
   ]
  },
  {
   "cell_type": "code",
   "execution_count": 25,
   "metadata": {},
   "outputs": [
    {
     "name": "stdout",
     "output_type": "stream",
     "text": [
      "['facebook', 'instagram', 'flipkart', 'git hub', 'linkedin', 'twitter', 'castle', 'hotstar', 'play store']\n"
     ]
    }
   ],
   "source": [
    "#to remove the element from  the list\n",
    "apps.remove('tinder')\n",
    "print(apps)"
   ]
  },
  {
   "cell_type": "code",
   "execution_count": 26,
   "metadata": {},
   "outputs": [
    {
     "name": "stdout",
     "output_type": "stream",
     "text": [
      "['castle', 'facebook', 'flipkart', 'git hub', 'hotstar', 'instagram', 'linkedin', 'play store', 'twitter']\n"
     ]
    }
   ],
   "source": [
    "# to sort the element from the list \n",
    "apps.sort()\n",
    "print(apps)"
   ]
  },
  {
   "cell_type": "code",
   "execution_count": 27,
   "metadata": {},
   "outputs": [
    {
     "name": "stdout",
     "output_type": "stream",
     "text": [
      "['castle', 'facebook', 'flipkart', 'git hub', 'hotstar', 'instagram', 'linkedin', 'play store', 'twitter']\n"
     ]
    }
   ],
   "source": [
    "# to copy list\n",
    "apps2 = apps.copy()\n",
    "print(apps2)"
   ]
  },
  {
   "cell_type": "code",
   "execution_count": 28,
   "metadata": {},
   "outputs": [
    {
     "name": "stdout",
     "output_type": "stream",
     "text": [
      "[]\n"
     ]
    }
   ],
   "source": [
    "# to clear the list\n",
    "apps.clear()\n",
    "print(apps)"
   ]
  },
  {
   "cell_type": "code",
   "execution_count": 29,
   "metadata": {},
   "outputs": [
    {
     "name": "stdout",
     "output_type": "stream",
     "text": [
      "['castle', 'facebook', 'flipkart', 'git hub', 'hotstar', 'instagram', 'linkedin', 'play store', 'twitter', 'gpay', 'camera', 'maps']\n"
     ]
    }
   ],
   "source": [
    "# to extend the list\n",
    "# 1. from the end side\n",
    "apps3 = ['gpay','camera','maps']\n",
    "apps2.extend(apps3)\n",
    "print(apps2)"
   ]
  },
  {
   "cell_type": "code",
   "execution_count": 12,
   "metadata": {},
   "outputs": [
    {
     "name": "stdout",
     "output_type": "stream",
     "text": [
      "['gpay', 'camera', 'maps', 'castle', 'facebook', 'github', 'hostar', 'i9nstagram', 'linkedin', 'playstore', 'twitter']\n"
     ]
    }
   ],
   "source": [
    "# 2. to front side \n",
    "apps3 = ['gpay','camera','maps']\n",
    "apps2=['castle','facebook','github','hostar','i9nstagram','linkedin','playstore','twitter']\n",
    "apps3.extend(apps2)\n",
    "print(apps3)"
   ]
  },
  {
   "cell_type": "markdown",
   "metadata": {},
   "source": [
    "List comprehension"
   ]
  },
  {
   "cell_type": "code",
   "execution_count": 1,
   "metadata": {},
   "outputs": [
    {
     "name": "stdout",
     "output_type": "stream",
     "text": [
      "4\n",
      "16\n",
      "36\n",
      "64\n",
      "100\n"
     ]
    }
   ],
   "source": [
    "#To print a square numbers\n",
    "a =[2,4,6,8,10]\n",
    "for i in a:\n",
    "    print(i**2)\n"
   ]
  },
  {
   "cell_type": "code",
   "execution_count": 2,
   "metadata": {},
   "outputs": [
    {
     "name": "stdout",
     "output_type": "stream",
     "text": [
      "[4, 16, 36, 64, 100]\n"
     ]
    }
   ],
   "source": [
    "#to print a list\n",
    "a = [2,4,6,8,10]\n",
    "lst = []\n",
    "for i in a:\n",
    "    lst.append(i**2)\n",
    "print(lst)"
   ]
  },
  {
   "cell_type": "code",
   "execution_count": 3,
   "metadata": {},
   "outputs": [
    {
     "name": "stdout",
     "output_type": "stream",
     "text": [
      "[4, 16, 36, 64, 100]\n"
     ]
    }
   ],
   "source": [
    "# using list comprehension\n",
    "num = [2,4,6,8,10]\n",
    "square = [i**2 for i in num]\n",
    "print(square)"
   ]
  },
  {
   "cell_type": "code",
   "execution_count": 4,
   "metadata": {},
   "outputs": [
    {
     "name": "stdout",
     "output_type": "stream",
     "text": [
      "[2, 4, 56, 8, 10, 18, 54]\n"
     ]
    }
   ],
   "source": [
    "# print even number using list comprehension\n",
    "x = [1,2,3,4,56,7,8,9,10,15,18,23,54]\n",
    "even = [num for num in x if num%2==0]\n",
    "print(even)"
   ]
  },
  {
   "cell_type": "code",
   "execution_count": 5,
   "metadata": {},
   "outputs": [
    {
     "name": "stdout",
     "output_type": "stream",
     "text": [
      "['banana', 'cherry', 'orange']\n"
     ]
    }
   ],
   "source": [
    "x = ['apple' , 'mango', 'banana', 'cherry', 'orange','strawberry','kiwi','avocado','dragonfruit' ,'graphes']\n",
    "fruits =[i for i in x if len(i) ==6 ]\n",
    "print(fruits)\n"
   ]
  },
  {
   "cell_type": "code",
   "execution_count": 6,
   "metadata": {},
   "outputs": [
    {
     "name": "stdout",
     "output_type": "stream",
     "text": [
      "['HELLO', 'MY', 'NAME', 'IS', 'JOY']\n"
     ]
    }
   ],
   "source": [
    "words = ['hello','my','name','is','joy']\n",
    "lst = [i.upper() for i in words]\n",
    "print(lst)"
   ]
  },
  {
   "cell_type": "code",
   "execution_count": null,
   "metadata": {},
   "outputs": [],
   "source": []
  }
 ],
 "metadata": {
  "kernelspec": {
   "display_name": "base",
   "language": "python",
   "name": "python3"
  },
  "language_info": {
   "codemirror_mode": {
    "name": "ipython",
    "version": 3
   },
   "file_extension": ".py",
   "mimetype": "text/x-python",
   "name": "python",
   "nbconvert_exporter": "python",
   "pygments_lexer": "ipython3",
   "version": "3.12.3"
  }
 },
 "nbformat": 4,
 "nbformat_minor": 2
}
