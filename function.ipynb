{
 "cells": [
  {
   "cell_type": "markdown",
   "metadata": {},
   "source": [
    "# FUNCTIONS IN PYTHON \n",
    "- Predefined Functionn\n",
    "  - bulit-in functions \n",
    "  -modules based functions\n",
    "    - local modules\n",
    "     - maths\n",
    "     - datetime\n",
    "     - os\n",
    "     - turtle\n",
    "     - random\n",
    "\n",
    "    -3rd party modules \n",
    "      - numpy\n",
    "      - pandas\n",
    "      - matplotlib\n",
    "      - dputils\n",
    "- users defined functions\n",
    "      - function with return value \n",
    "      - non-parameterized functions \n",
    "      - parameterized functions\n",
    "        - required parameters/named parameter\n",
    "        - default parameters\n",
    "        - keyvalue variables args\n",
    "        - lambda\n",
    "        - map and filter \n",
    "\n",
    "\n",
    "        \n",
    "\n",
    "        MODULES OF FUNCTION"
   ]
  },
  {
   "cell_type": "code",
   "execution_count": 3,
   "metadata": {},
   "outputs": [],
   "source": [
    "import math"
   ]
  },
  {
   "cell_type": "code",
   "execution_count": 4,
   "metadata": {},
   "outputs": [
    {
     "data": {
      "text/plain": [
       "93326215443944152681699238856266700490715968264381621468592963895217599993229915608941463976156518286253697920827223758251185210916864000000000000000000000000"
      ]
     },
     "execution_count": 4,
     "metadata": {},
     "output_type": "execute_result"
    }
   ],
   "source": [
    "math.factorial(100)"
   ]
  },
  {
   "cell_type": "code",
   "execution_count": 5,
   "metadata": {},
   "outputs": [
    {
     "data": {
      "text/plain": [
       "-0.5440211108893698"
      ]
     },
     "execution_count": 5,
     "metadata": {},
     "output_type": "execute_result"
    }
   ],
   "source": [
    "math.sin(10)"
   ]
  },
  {
   "cell_type": "code",
   "execution_count": 6,
   "metadata": {},
   "outputs": [
    {
     "data": {
      "text/plain": [
       "3"
      ]
     },
     "execution_count": 6,
     "metadata": {},
     "output_type": "execute_result"
    }
   ],
   "source": [
    "math.floor(3.12930012309123)"
   ]
  },
  {
   "cell_type": "code",
   "execution_count": 7,
   "metadata": {},
   "outputs": [
    {
     "data": {
      "text/plain": [
       "4"
      ]
     },
     "execution_count": 7,
     "metadata": {},
     "output_type": "execute_result"
    }
   ],
   "source": [
    "math.ceil(3.129)"
   ]
  },
  {
   "cell_type": "code",
   "execution_count": 8,
   "metadata": {},
   "outputs": [
    {
     "data": {
      "text/plain": [
       "3.129"
      ]
     },
     "execution_count": 8,
     "metadata": {},
     "output_type": "execute_result"
    }
   ],
   "source": [
    "math.fabs(-3.129)"
   ]
  },
  {
   "cell_type": "code",
   "execution_count": 9,
   "metadata": {},
   "outputs": [],
   "source": [
    "from random import choice ,randint"
   ]
  },
  {
   "cell_type": "code",
   "execution_count": 10,
   "metadata": {},
   "outputs": [
    {
     "name": "stdout",
     "output_type": "stream",
     "text": [
      "\u001b[1;31mSignature:\u001b[0m \u001b[0mchoice\u001b[0m\u001b[1;33m(\u001b[0m\u001b[0mseq\u001b[0m\u001b[1;33m)\u001b[0m\u001b[1;33m\u001b[0m\u001b[1;33m\u001b[0m\u001b[0m\n",
      "\u001b[1;31mDocstring:\u001b[0m Choose a random element from a non-empty sequence.\n",
      "\u001b[1;31mFile:\u001b[0m      c:\\users\\nisha yadav\\miniconda3\\lib\\random.py\n",
      "\u001b[1;31mType:\u001b[0m      method"
     ]
    }
   ],
   "source": [
    "choice?"
   ]
  },
  {
   "cell_type": "code",
   "execution_count": 11,
   "metadata": {},
   "outputs": [
    {
     "name": "stdout",
     "output_type": "stream",
     "text": [
      "['🫏', '🫎', '👹', '🐔', ' 🐸', '😻', '🙊']\n",
      "Your emoji is :\n",
      "🐔\n"
     ]
    }
   ],
   "source": [
    "data = ['🫏' ,'🫎' ,'👹' ,'🐔' ,' 🐸' ,'😻' ,'🙊']\n",
    "print(data)\n",
    "print('Your emoji is :')\n",
    "print(choice(data))\n"
   ]
  },
  {
   "cell_type": "code",
   "execution_count": 12,
   "metadata": {},
   "outputs": [
    {
     "name": "stdout",
     "output_type": "stream",
     "text": [
      "6\n"
     ]
    }
   ],
   "source": [
    "print(randint(1,6))"
   ]
  },
  {
   "cell_type": "code",
   "execution_count": 13,
   "metadata": {},
   "outputs": [
    {
     "name": "stdout",
     "output_type": "stream",
     "text": [
      "🙊 🫎 😻 👹 🐔\n",
      "🫏 🙊  🐸  🐸 😻 🐔 🐔 😻 🐔 🙊\n"
     ]
    }
   ],
   "source": [
    "from random import sample, choices\n",
    "out = sample(data,5)\n",
    "print(*out) # * here is a trick to unpack the list\n",
    "out2 = choices(data, k=10)\n",
    "print(*out2) "
   ]
  },
  {
   "cell_type": "code",
   "execution_count": 14,
   "metadata": {},
   "outputs": [],
   "source": [
    "from datetime import datetime"
   ]
  },
  {
   "cell_type": "code",
   "execution_count": 15,
   "metadata": {},
   "outputs": [
    {
     "name": "stdout",
     "output_type": "stream",
     "text": [
      "2024-07-29 21:19:12.014419\n"
     ]
    }
   ],
   "source": [
    "print(datetime.now())"
   ]
  },
  {
   "cell_type": "code",
   "execution_count": 16,
   "metadata": {},
   "outputs": [
    {
     "name": "stdout",
     "output_type": "stream",
     "text": [
      "2024-07-29\n",
      "2024-07-29\n",
      "2024-07-29 21:19:12.042010\n",
      "29/072024\n"
     ]
    }
   ],
   "source": [
    "# date\n",
    "date = datetime.date(datetime.now())\n",
    "print(date)\n",
    "time = datetime.time(datetime.now())\n",
    "print(date)\n",
    "now = datetime.now()\n",
    "print(now)\n",
    "formatted = now.strftime(\"%d/%m%Y\")\n",
    "print(formatted)\n"
   ]
  },
  {
   "cell_type": "code",
   "execution_count": 17,
   "metadata": {},
   "outputs": [],
   "source": [
    "import os "
   ]
  },
  {
   "cell_type": "code",
   "execution_count": 18,
   "metadata": {},
   "outputs": [
    {
     "name": "stdout",
     "output_type": "stream",
     "text": [
      "current location\n",
      "c:\\Users\\Nisha Yadav\\OneDrive\\Documents\\PYTHON DATA SCIENCE\n"
     ]
    }
   ],
   "source": [
    "print( \"current location\" )\n",
    "print(os.getcwd())"
   ]
  },
  {
   "cell_type": "code",
   "execution_count": 19,
   "metadata": {},
   "outputs": [
    {
     "name": "stdout",
     "output_type": "stream",
     "text": [
      "list all files\n",
      "🗄️ .git\n",
      "🗄️ a\n",
      "🗄️ basics.ipynb\n",
      "🗄️ conditions.ipynb\n",
      "🗄️ dictnary.ipynb\n",
      "🗄️ function.ipynb\n",
      "🗄️ iop.ipynb\n",
      "🗄️ list.ipynb\n",
      "🗄️ loops.ipynb\n",
      "🗄️ pattern1.py\n",
      "🗄️ pattern2.py\n",
      "🗄️ pattern3.py\n",
      "🗄️ pattern4.py\n",
      "🗄️ pattern5.py\n",
      "🗄️ pattern6.py\n",
      "🗄️ sets.ipynb\n",
      "🗄️ string.ipynb\n"
     ]
    }
   ],
   "source": [
    "print(\"list all files\")\n",
    "content=os.listdir()\n",
    "for item in content:\n",
    "    print(f\"🗄️ {item}\")"
   ]
  },
  {
   "cell_type": "code",
   "execution_count": 20,
   "metadata": {},
   "outputs": [
    {
     "name": "stdout",
     "output_type": "stream",
     "text": [
      " 🗄️string.ipynb\n",
      " 🗄️string.ipynb\n",
      " 🗄️string.ipynb\n",
      " 🗄️string.ipynb\n",
      " 🗄️string.ipynb\n",
      " 🗄️string.ipynb\n",
      " 🗄️string.ipynb\n",
      " 🗄️string.ipynb\n",
      " 🗄️string.ipynb\n",
      " 🗄️string.ipynb\n",
      " 🗄️string.ipynb\n",
      " 🗄️string.ipynb\n",
      " 🗄️string.ipynb\n",
      " 🗄️string.ipynb\n",
      " 🗄️string.ipynb\n",
      " 🗄️string.ipynb\n",
      " 🗄️string.ipynb\n",
      " 🗄️string.ipynb\n",
      " 🗄️string.ipynb\n",
      " 🗄️string.ipynb\n",
      " 🗄️string.ipynb\n",
      " 🗄️string.ipynb\n",
      " 🗄️string.ipynb\n"
     ]
    }
   ],
   "source": [
    "\n",
    "content= os.listdir(\"c:/program files\")\n",
    "for items in content:\n",
    "    print(f\" 🗄️{item}\")"
   ]
  },
  {
   "cell_type": "code",
   "execution_count": 21,
   "metadata": {},
   "outputs": [
    {
     "name": "stdout",
     "output_type": "stream",
     "text": [
      "📁string.ipynb\n",
      "📁string.ipynb\n",
      "📁string.ipynb\n",
      "📁string.ipynb\n",
      "📁string.ipynb\n",
      "📁string.ipynb\n",
      "📁string.ipynb\n",
      "📁string.ipynb\n",
      "📁string.ipynb\n",
      "📁string.ipynb\n",
      "📁string.ipynb\n",
      "📁string.ipynb\n",
      "📁string.ipynb\n",
      "📁string.ipynb\n",
      "📁string.ipynb\n",
      "📁string.ipynb\n",
      "📁string.ipynb\n",
      "📁string.ipynb\n",
      "📁string.ipynb\n",
      "📁string.ipynb\n",
      "📁string.ipynb\n",
      "📁string.ipynb\n",
      "📁string.ipynb\n"
     ]
    }
   ],
   "source": [
    "content= os.listdir(\"c:/program files\")\n",
    "for items in content:\n",
    "    path=f\"c:/program files/{item}\" \n",
    "    is_file= os.path.isfile(path) \n",
    "    created = os.path.isfile(path)\n",
    "    if is_file:\n",
    "        print(f\" 📁{item}\")\n",
    "    else:\n",
    "        print(f\"📁{item}\")"
   ]
  },
  {
   "cell_type": "code",
   "execution_count": 22,
   "metadata": {},
   "outputs": [],
   "source": [
    "os.makedirs(\"a/b/c\",exist_ok = True)"
   ]
  },
  {
   "cell_type": "code",
   "execution_count": 23,
   "metadata": {},
   "outputs": [],
   "source": [
    "os.makedirs(\"C:/important/work\",exist_ok=True)"
   ]
  },
  {
   "cell_type": "markdown",
   "metadata": {},
   "source": [
    "# users defined functions\n",
    "\n",
    "stage 1: define a function (create)\n",
    "\n",
    "def fun_name([params...]):\n",
    "     statements\n",
    "     ....\n",
    "     [return values]\n",
    "\n",
    "stage 2:call the function(use)\n",
    "\n",
    "fun_name([args...])\n"
   ]
  },
  {
   "cell_type": "code",
   "execution_count": 24,
   "metadata": {},
   "outputs": [],
   "source": [
    "def adder():\n",
    "    a= int(input(\"enter the number:\"))\n",
    "    b=int(input(\"enter the another number:\"))\n",
    "    total=a+b\n",
    "    print(total)"
   ]
  },
  {
   "cell_type": "code",
   "execution_count": 25,
   "metadata": {},
   "outputs": [
    {
     "name": "stdout",
     "output_type": "stream",
     "text": [
      "3\n"
     ]
    }
   ],
   "source": [
    "adder()"
   ]
  },
  {
   "cell_type": "code",
   "execution_count": 26,
   "metadata": {},
   "outputs": [],
   "source": [
    "def adder(a,b):\n",
    "    total = a+b\n",
    "    #print(total)\n",
    "    return(total)"
   ]
  },
  {
   "cell_type": "code",
   "execution_count": 27,
   "metadata": {},
   "outputs": [
    {
     "data": {
      "text/plain": [
       "22"
      ]
     },
     "execution_count": 27,
     "metadata": {},
     "output_type": "execute_result"
    }
   ],
   "source": [
    "adder(10,12)"
   ]
  },
  {
   "cell_type": "code",
   "execution_count": 28,
   "metadata": {},
   "outputs": [
    {
     "data": {
      "text/plain": [
       "3063"
      ]
     },
     "execution_count": 28,
     "metadata": {},
     "output_type": "execute_result"
    }
   ],
   "source": [
    "x=1044\n",
    "y=2019\n",
    "adder(x,y)"
   ]
  },
  {
   "cell_type": "code",
   "execution_count": 29,
   "metadata": {},
   "outputs": [],
   "source": [
    "def si(p,r,t):\n",
    "    SI =(p*r*t)/100\n",
    "    amount= SI+p\n",
    "    # print(amount)\n",
    "    #print(SI)\n",
    "    return(SI,amount)\n",
    "   "
   ]
  },
  {
   "cell_type": "code",
   "execution_count": 30,
   "metadata": {},
   "outputs": [
    {
     "data": {
      "text/plain": [
       "(17.16, 28.16)"
      ]
     },
     "execution_count": 30,
     "metadata": {},
     "output_type": "execute_result"
    }
   ],
   "source": [
    "si(11,12,13)"
   ]
  },
  {
   "cell_type": "code",
   "execution_count": 31,
   "metadata": {},
   "outputs": [],
   "source": [
    "def sphere(r):\n",
    "    area=(4*3.14*r*r)\n",
    "    #print(area)\n",
    "    return(area)"
   ]
  },
  {
   "cell_type": "code",
   "execution_count": 32,
   "metadata": {},
   "outputs": [
    {
     "data": {
      "text/plain": [
       "113.03999999999999"
      ]
     },
     "execution_count": 32,
     "metadata": {},
     "output_type": "execute_result"
    }
   ],
   "source": [
    "sphere(3)"
   ]
  },
  {
   "cell_type": "code",
   "execution_count": 33,
   "metadata": {},
   "outputs": [
    {
     "name": "stdout",
     "output_type": "stream",
     "text": [
      "21\n",
      "5538.96\n"
     ]
    }
   ],
   "source": [
    "ans = adder(15,6)\n",
    "print(ans)\n",
    "result = sphere(ans)\n",
    "print(result)"
   ]
  },
  {
   "cell_type": "code",
   "execution_count": 34,
   "metadata": {},
   "outputs": [
    {
     "name": "stdout",
     "output_type": "stream",
     "text": [
      "3\n",
      "total words:8\n"
     ]
    }
   ],
   "source": [
    "# waf to count the number of words in a sentence\n",
    "def word_count(sentence):\n",
    "    words = sentence.split()\n",
    "    return len(words)\n",
    "\n",
    "sentence = \"I am student\"\n",
    "print(word_count(sentence))\n",
    "\n",
    "\n",
    "sentence = 'this is a long sentence with many words,okay?'\n",
    "size = word_count(sentence)\n",
    "print(f\"total words:{size}\")"
   ]
  },
  {
   "cell_type": "code",
   "execution_count": 35,
   "metadata": {},
   "outputs": [],
   "source": [
    "# Required positional parameter\n",
    "def multiplier(a,b,c,d):\n",
    "    ans = a * b * c * d\n",
    "    return ans "
   ]
  },
  {
   "cell_type": "code",
   "execution_count": 36,
   "metadata": {},
   "outputs": [
    {
     "name": "stdout",
     "output_type": "stream",
     "text": [
      "6144\n"
     ]
    }
   ],
   "source": [
    "ans = multiplier(4,8,12,16)\n",
    "print(ans)"
   ]
  },
  {
   "cell_type": "code",
   "execution_count": 37,
   "metadata": {},
   "outputs": [
    {
     "name": "stdout",
     "output_type": "stream",
     "text": [
      "24\n",
      "24\n",
      "24\n",
      "30\n"
     ]
    }
   ],
   "source": [
    "print(multiplier(1,2,3,4)) # positional argument\n",
    "print(multiplier(a=1,b=2,c=3,d=4)) #keyword argument\n",
    "print(multiplier(b=2,c=3,a=1,d=4)) #keyword argument in any order\n",
    "print(multiplier(1,2,d=3,c=5)) # mix of positional and keyword argument "
   ]
  },
  {
   "cell_type": "code",
   "execution_count": 38,
   "metadata": {},
   "outputs": [],
   "source": [
    "#defult parameter\n",
    "def multiplier_v2(a,b,c,d=1):\n",
    "    ans = a*b*c*d \n",
    "    return ans"
   ]
  },
  {
   "cell_type": "code",
   "execution_count": 39,
   "metadata": {},
   "outputs": [
    {
     "name": "stdout",
     "output_type": "stream",
     "text": [
      "24\n",
      "6\n",
      "24\n"
     ]
    }
   ],
   "source": [
    "print(multiplier_v2(1,2,3,4))\n",
    "print(multiplier_v2(1,2,3))   # d is the optional defaultvalue=1\n",
    "print(multiplier_v2(1,2,3,d=4))"
   ]
  },
  {
   "cell_type": "code",
   "execution_count": 40,
   "metadata": {},
   "outputs": [],
   "source": [
    "def multiplier_v3(a=1,b=1,c=1,d=1):\n",
    "    ans = a * b* c* d\n",
    "    return ans"
   ]
  },
  {
   "cell_type": "code",
   "execution_count": 41,
   "metadata": {},
   "outputs": [
    {
     "name": "stdout",
     "output_type": "stream",
     "text": [
      "1\n",
      "10\n",
      "10\n",
      "200\n",
      "300\n",
      "240000\n",
      "240000\n"
     ]
    }
   ],
   "source": [
    "print(multiplier_v3())\n",
    "print(multiplier_v3(10))   \n",
    "print(multiplier_v3(b=10))\n",
    "print(multiplier_v3(10,20))\n",
    "print(multiplier_v3(10,c=30))   \n",
    "print(multiplier_v3(10,20,30,40))\n",
    "print(multiplier_v3(10,20,30,d=40))\n",
    "\n"
   ]
  },
  {
   "cell_type": "code",
   "execution_count": 42,
   "metadata": {},
   "outputs": [
    {
     "data": {
      "text/plain": [
       "['hell', ' w', 'rld']"
      ]
     },
     "execution_count": 42,
     "metadata": {},
     "output_type": "execute_result"
    }
   ],
   "source": [
    "\"hello world\".split(sep = 'o')   #default parameter example in predefined function"
   ]
  },
  {
   "cell_type": "code",
   "execution_count": 43,
   "metadata": {},
   "outputs": [
    {
     "name": "stdout",
     "output_type": "stream",
     "text": [
      "\n",
      "1\n",
      "1 2 3\n",
      "1|2|3|4|5|6|7|8|9|0|1\n"
     ]
    }
   ],
   "source": [
    "#  variable length argument\n",
    "print()\n",
    "print(1)\n",
    "print(1,2,3)\n",
    "print(1,2,3,4,5,6,7,8,9,0,1 , sep='|')"
   ]
  },
  {
   "cell_type": "code",
   "execution_count": 44,
   "metadata": {},
   "outputs": [],
   "source": [
    "def stats(*nums,action='mean'):\n",
    "    if action=='mean':\n",
    "        total = sum(nums)\n",
    "        size = len(nums)\n",
    "        return total / size\n",
    "    elif action == 'sum':\n",
    "        return sum(nums)"
   ]
  },
  {
   "cell_type": "code",
   "execution_count": 45,
   "metadata": {},
   "outputs": [
    {
     "name": "stdout",
     "output_type": "stream",
     "text": [
      "5.0\n",
      "44.0\n",
      "3.0\n",
      "12\n"
     ]
    }
   ],
   "source": [
    "print(stats(1,2,3,4,5,6,7,8,9,))\n",
    "print(stats(22,33,44,55,66))\n",
    "print(stats(4,5,2,1))\n",
    "print(stats(4,5,1,2, action ='sum'))\n",
    "\n"
   ]
  },
  {
   "cell_type": "markdown",
   "metadata": {},
   "source": [
    "when defininf a function:\n",
    ". only one parameter cab be variable length parameter(*args)\n",
    ". only one parameter can be variable keyword parameter(**kwargs)\n",
    ". default parameters should be at the end"
   ]
  },
  {
   "cell_type": "code",
   "execution_count": 46,
   "metadata": {},
   "outputs": [],
   "source": [
    "# variable length keyword argument\n",
    "def person(**details):\n",
    "    print('details of the person')\n",
    "    for k , v in details.items():\n",
    "        print(f'{k:20}|{v}')"
   ]
  },
  {
   "cell_type": "code",
   "execution_count": 47,
   "metadata": {},
   "outputs": [
    {
     "name": "stdout",
     "output_type": "stream",
     "text": [
      "details of the person\n",
      "name                |rahul\n",
      "details of the person\n",
      "name                |vijay\n",
      "age                 |22\n",
      "city                |mumbai\n",
      "country             |india\n",
      "gender              |male\n",
      "details of the person\n",
      "name                |nisha\n",
      "age                 |18\n",
      "city                |lucknow\n",
      "job                 |engineer\n"
     ]
    }
   ],
   "source": [
    "person(name='rahul')\n",
    "person(name='vijay',age=22,city='mumbai',country='india',gender='male')\n",
    "person(name='nisha',age='18',city='lucknow',job='engineer')"
   ]
  },
  {
   "cell_type": "markdown",
   "metadata": {},
   "source": [
    "lambda experssion:  simple equation as functions\n",
    "\n",
    "mathematicial function:\n",
    "```\n",
    "\n",
    "f(x) = x**2 + 1\n",
    "g(x,y) = x**2 + y**2 + 1\n",
    "\n",
    "lambda experssion:\n",
    "f = lambda x: x**2 + 1\n",
    "g = lambda x,y :x**2 + y**2 +1"
   ]
  },
  {
   "cell_type": "code",
   "execution_count": 48,
   "metadata": {},
   "outputs": [
    {
     "data": {
      "text/plain": [
       "<function __main__.<lambda>(x)>"
      ]
     },
     "execution_count": 48,
     "metadata": {},
     "output_type": "execute_result"
    }
   ],
   "source": [
    "f = lambda x: x**2 +1\n",
    "f"
   ]
  },
  {
   "cell_type": "code",
   "execution_count": 49,
   "metadata": {},
   "outputs": [
    {
     "name": "stdout",
     "output_type": "stream",
     "text": [
      "101\n",
      "5\n",
      "10001\n"
     ]
    }
   ],
   "source": [
    "print(f(10))\n",
    "print(f(2))\n",
    "print(f(100))"
   ]
  },
  {
   "cell_type": "code",
   "execution_count": 50,
   "metadata": {},
   "outputs": [
    {
     "name": "stdout",
     "output_type": "stream",
     "text": [
      "14\n",
      "26\n"
     ]
    }
   ],
   "source": [
    "g = lambda x,y :x**2 +y**2 +1\n",
    "print(g(2,3))\n",
    "print(g(3,4))"
   ]
  },
  {
   "cell_type": "code",
   "execution_count": 60,
   "metadata": {},
   "outputs": [
    {
     "data": {
      "text/plain": [
       "[2, 5, 10, 17, 26, 37, 50, 65, 82, 101]"
      ]
     },
     "execution_count": 60,
     "metadata": {},
     "output_type": "execute_result"
    }
   ],
   "source": [
    "data = [1,2,3,4,5,6,7,8,9,10]\n",
    "f = lambda x:x**2 +1\n",
    "list(map(f,data))"
   ]
  },
  {
   "cell_type": "code",
   "execution_count": 61,
   "metadata": {},
   "outputs": [
    {
     "data": {
      "text/plain": [
       "(2, 5, 10, 17, 26, 37, 50, 65, 82, 101)"
      ]
     },
     "execution_count": 61,
     "metadata": {},
     "output_type": "execute_result"
    }
   ],
   "source": [
    "tuple(map(f,data))"
   ]
  },
  {
   "cell_type": "code",
   "execution_count": 62,
   "metadata": {},
   "outputs": [
    {
     "data": {
      "text/plain": [
       "{2, 5, 10, 17, 26, 37, 50, 65, 82, 101}"
      ]
     },
     "execution_count": 62,
     "metadata": {},
     "output_type": "execute_result"
    }
   ],
   "source": [
    "set(map(f,data))"
   ]
  },
  {
   "cell_type": "code",
   "execution_count": 55,
   "metadata": {},
   "outputs": [
    {
     "data": {
      "text/plain": [
       "[102, 405, 910, 1617, 2526, 3637, 4950, 6465, 8182, 222]"
      ]
     },
     "execution_count": 55,
     "metadata": {},
     "output_type": "execute_result"
    }
   ],
   "source": [
    "data1 = [1,2,3,4,5,6,7,8,9,10]\n",
    "data2= [10,20,30,40,50,60,70,80,90,11]\n",
    "g = lambda x,y,:x**2 +y**2 +1\n",
    "list(map(g,data1 ,data2))"
   ]
  },
  {
   "cell_type": "code",
   "execution_count": null,
   "metadata": {},
   "outputs": [],
   "source": []
  }
 ],
 "metadata": {
  "kernelspec": {
   "display_name": "base",
   "language": "python",
   "name": "python3"
  },
  "language_info": {
   "codemirror_mode": {
    "name": "ipython",
    "version": 3
   },
   "file_extension": ".py",
   "mimetype": "text/x-python",
   "name": "python",
   "nbconvert_exporter": "python",
   "pygments_lexer": "ipython3",
   "version": "3.12.3"
  }
 },
 "nbformat": 4,
 "nbformat_minor": 2
}
