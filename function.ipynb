{
 "cells": [
  {
   "cell_type": "markdown",
   "metadata": {},
   "source": [
    "# FUNCTIONS IN PYTHON \n",
    "- Predefined Functionn\n",
    "  - bulit-in functions \n",
    "  -modules based functions\n",
    "    - local modules\n",
    "     - maths\n",
    "     - datetime\n",
    "     - os\n",
    "     - turtle\n",
    "     - random\n",
    "\n",
    "    -3rd party modules \n",
    "      - numpy\n",
    "      - pandas\n",
    "      - matplotlib\n",
    "      - dputils\n",
    "- users defined functions\n",
    "      - function with return value \n",
    "      - non-parameterized functions \n",
    "      - parameterized functions\n",
    "        - required parameters/named parameter\n",
    "        - default parameters\n",
    "        - keyvalue variables args\n",
    "        - lambda\n",
    "        - map and filter \n",
    "\n",
    "\n",
    "        \n",
    "\n",
    "        MODULES OF FUNCTION"
   ]
  },
  {
   "cell_type": "code",
   "execution_count": 52,
   "metadata": {},
   "outputs": [],
   "source": [
    "import math"
   ]
  },
  {
   "cell_type": "code",
   "execution_count": 53,
   "metadata": {},
   "outputs": [
    {
     "data": {
      "text/plain": [
       "93326215443944152681699238856266700490715968264381621468592963895217599993229915608941463976156518286253697920827223758251185210916864000000000000000000000000"
      ]
     },
     "execution_count": 53,
     "metadata": {},
     "output_type": "execute_result"
    }
   ],
   "source": [
    "math.factorial(100)"
   ]
  },
  {
   "cell_type": "code",
   "execution_count": 54,
   "metadata": {},
   "outputs": [
    {
     "data": {
      "text/plain": [
       "-0.5440211108893698"
      ]
     },
     "execution_count": 54,
     "metadata": {},
     "output_type": "execute_result"
    }
   ],
   "source": [
    "math.sin(10)"
   ]
  },
  {
   "cell_type": "code",
   "execution_count": 55,
   "metadata": {},
   "outputs": [
    {
     "data": {
      "text/plain": [
       "3"
      ]
     },
     "execution_count": 55,
     "metadata": {},
     "output_type": "execute_result"
    }
   ],
   "source": [
    "math.floor(3.12930012309123)"
   ]
  },
  {
   "cell_type": "code",
   "execution_count": 56,
   "metadata": {},
   "outputs": [
    {
     "data": {
      "text/plain": [
       "4"
      ]
     },
     "execution_count": 56,
     "metadata": {},
     "output_type": "execute_result"
    }
   ],
   "source": [
    "math.ceil(3.129)"
   ]
  },
  {
   "cell_type": "code",
   "execution_count": 57,
   "metadata": {},
   "outputs": [
    {
     "data": {
      "text/plain": [
       "3.129"
      ]
     },
     "execution_count": 57,
     "metadata": {},
     "output_type": "execute_result"
    }
   ],
   "source": [
    "math.fabs(-3.129)"
   ]
  },
  {
   "cell_type": "code",
   "execution_count": 58,
   "metadata": {},
   "outputs": [],
   "source": [
    "from random import choice ,randint"
   ]
  },
  {
   "cell_type": "code",
   "execution_count": 59,
   "metadata": {},
   "outputs": [
    {
     "name": "stdout",
     "output_type": "stream",
     "text": [
      "\u001b[1;31mSignature:\u001b[0m \u001b[0mchoice\u001b[0m\u001b[1;33m(\u001b[0m\u001b[0mseq\u001b[0m\u001b[1;33m)\u001b[0m\u001b[1;33m\u001b[0m\u001b[1;33m\u001b[0m\u001b[0m\n",
      "\u001b[1;31mDocstring:\u001b[0m Choose a random element from a non-empty sequence.\n",
      "\u001b[1;31mFile:\u001b[0m      c:\\users\\nisha yadav\\miniconda3\\lib\\random.py\n",
      "\u001b[1;31mType:\u001b[0m      method"
     ]
    }
   ],
   "source": [
    "choice?"
   ]
  },
  {
   "cell_type": "code",
   "execution_count": 60,
   "metadata": {},
   "outputs": [
    {
     "name": "stdout",
     "output_type": "stream",
     "text": [
      "['🫏', '🫎', '👹', '🐔', ' 🐸', '😻', '🙊']\n",
      "Your emoji is :\n",
      "🫏\n"
     ]
    }
   ],
   "source": [
    "data = ['🫏' ,'🫎' ,'👹' ,'🐔' ,' 🐸' ,'😻' ,'🙊']\n",
    "print(data)\n",
    "print('Your emoji is :')\n",
    "print(choice(data))\n"
   ]
  },
  {
   "cell_type": "code",
   "execution_count": 61,
   "metadata": {},
   "outputs": [
    {
     "name": "stdout",
     "output_type": "stream",
     "text": [
      "6\n"
     ]
    }
   ],
   "source": [
    "print(randint(1,6))"
   ]
  },
  {
   "cell_type": "code",
   "execution_count": 62,
   "metadata": {},
   "outputs": [
    {
     "name": "stdout",
     "output_type": "stream",
     "text": [
      "🫏 🙊 🫎 🐔 😻\n",
      "🐔 🫎 🐔 😻 😻 😻  🐸 🫏 😻 👹\n"
     ]
    }
   ],
   "source": [
    "from random import sample, choices\n",
    "out = sample(data,5)\n",
    "print(*out) # * here is a trick to unpack the list\n",
    "out2 = choices(data, k=10)\n",
    "print(*out2) "
   ]
  },
  {
   "cell_type": "code",
   "execution_count": 63,
   "metadata": {},
   "outputs": [],
   "source": [
    "from datetime import datetime"
   ]
  },
  {
   "cell_type": "code",
   "execution_count": 64,
   "metadata": {},
   "outputs": [
    {
     "name": "stdout",
     "output_type": "stream",
     "text": [
      "2024-07-27 12:17:39.433608\n"
     ]
    }
   ],
   "source": [
    "print(datetime.now())"
   ]
  },
  {
   "cell_type": "code",
   "execution_count": 65,
   "metadata": {},
   "outputs": [
    {
     "name": "stdout",
     "output_type": "stream",
     "text": [
      "2024-07-27\n",
      "2024-07-27\n",
      "2024-07-27 12:17:39.493586\n",
      "27/072024\n"
     ]
    }
   ],
   "source": [
    "# date\n",
    "date = datetime.date(datetime.now())\n",
    "print(date)\n",
    "time = datetime.time(datetime.now())\n",
    "print(date)\n",
    "now = datetime.now()\n",
    "print(now)\n",
    "formatted = now.strftime(\"%d/%m%Y\")\n",
    "print(formatted)\n"
   ]
  },
  {
   "cell_type": "code",
   "execution_count": 66,
   "metadata": {},
   "outputs": [],
   "source": [
    "import os "
   ]
  },
  {
   "cell_type": "code",
   "execution_count": 67,
   "metadata": {},
   "outputs": [
    {
     "name": "stdout",
     "output_type": "stream",
     "text": [
      "current location\n",
      "c:\\Users\\Nisha Yadav\\OneDrive\\Documents\\PYTHON DATA SCIENCE\n"
     ]
    }
   ],
   "source": [
    "print( \"current location\" )\n",
    "print(os.getcwd())"
   ]
  },
  {
   "cell_type": "code",
   "execution_count": 68,
   "metadata": {},
   "outputs": [
    {
     "name": "stdout",
     "output_type": "stream",
     "text": [
      "list all files\n",
      "🗄️ .git\n",
      "🗄️ a\n",
      "🗄️ basics.ipynb\n",
      "🗄️ conditions.ipynb\n",
      "🗄️ dictnary.ipynb\n",
      "🗄️ function.ipynb\n",
      "🗄️ iop.ipynb\n",
      "🗄️ list.ipynb\n",
      "🗄️ loops.ipynb\n",
      "🗄️ pattern1.py\n",
      "🗄️ pattern2.py\n",
      "🗄️ pattern3.py\n",
      "🗄️ pattern4.py\n",
      "🗄️ pattern5.py\n",
      "🗄️ pattern6.py\n",
      "🗄️ sets.ipynb\n",
      "🗄️ string.ipynb\n"
     ]
    }
   ],
   "source": [
    "print(\"list all files\")\n",
    "content=os.listdir()\n",
    "for item in content:\n",
    "    print(f\"🗄️ {item}\")"
   ]
  },
  {
   "cell_type": "code",
   "execution_count": 69,
   "metadata": {},
   "outputs": [
    {
     "name": "stdout",
     "output_type": "stream",
     "text": [
      " 🗄️string.ipynb\n",
      " 🗄️string.ipynb\n",
      " 🗄️string.ipynb\n",
      " 🗄️string.ipynb\n",
      " 🗄️string.ipynb\n",
      " 🗄️string.ipynb\n",
      " 🗄️string.ipynb\n",
      " 🗄️string.ipynb\n",
      " 🗄️string.ipynb\n",
      " 🗄️string.ipynb\n",
      " 🗄️string.ipynb\n",
      " 🗄️string.ipynb\n",
      " 🗄️string.ipynb\n",
      " 🗄️string.ipynb\n",
      " 🗄️string.ipynb\n",
      " 🗄️string.ipynb\n",
      " 🗄️string.ipynb\n",
      " 🗄️string.ipynb\n",
      " 🗄️string.ipynb\n",
      " 🗄️string.ipynb\n",
      " 🗄️string.ipynb\n",
      " 🗄️string.ipynb\n",
      " 🗄️string.ipynb\n"
     ]
    }
   ],
   "source": [
    "\n",
    "content= os.listdir(\"c:/program files\")\n",
    "for items in content:\n",
    "    print(f\" 🗄️{item}\")"
   ]
  },
  {
   "cell_type": "code",
   "execution_count": 70,
   "metadata": {},
   "outputs": [
    {
     "name": "stdout",
     "output_type": "stream",
     "text": [
      "📁string.ipynb\n",
      "📁string.ipynb\n",
      "📁string.ipynb\n",
      "📁string.ipynb\n",
      "📁string.ipynb\n",
      "📁string.ipynb\n",
      "📁string.ipynb\n",
      "📁string.ipynb\n",
      "📁string.ipynb\n",
      "📁string.ipynb\n",
      "📁string.ipynb\n",
      "📁string.ipynb\n",
      "📁string.ipynb\n",
      "📁string.ipynb\n",
      "📁string.ipynb\n",
      "📁string.ipynb\n",
      "📁string.ipynb\n",
      "📁string.ipynb\n",
      "📁string.ipynb\n",
      "📁string.ipynb\n",
      "📁string.ipynb\n",
      "📁string.ipynb\n",
      "📁string.ipynb\n"
     ]
    }
   ],
   "source": [
    "content= os.listdir(\"c:/program files\")\n",
    "for items in content:\n",
    "    path=f\"c:/program files/{item}\" \n",
    "    is_file= os.path.isfile(path) \n",
    "    created = os.path.isfile(path)\n",
    "    if is_file:\n",
    "        print(f\" 📁{item}\")\n",
    "    else:\n",
    "        print(f\"📁{item}\")"
   ]
  },
  {
   "cell_type": "code",
   "execution_count": 71,
   "metadata": {},
   "outputs": [],
   "source": [
    "os.makedirs(\"a/b/c\",exist_ok = True)"
   ]
  },
  {
   "cell_type": "code",
   "execution_count": 72,
   "metadata": {},
   "outputs": [],
   "source": [
    "os.makedirs(\"C:/important/work\",exist_ok=True)"
   ]
  },
  {
   "cell_type": "markdown",
   "metadata": {},
   "source": [
    "# users defined functions\n",
    "\n",
    "stage 1: define a function (create)\n",
    "\n",
    "def fun_name([params...]):\n",
    "     statements\n",
    "     ....\n",
    "     [return values]\n",
    "\n",
    "stage 2:call the function(use)\n",
    "\n",
    "fun_name([args...])\n"
   ]
  },
  {
   "cell_type": "code",
   "execution_count": 73,
   "metadata": {},
   "outputs": [],
   "source": [
    "def adder():\n",
    "    a= int(input(\"enter the number:\"))\n",
    "    b=int(input(\"enter the another number:\"))\n",
    "    total=a+b\n",
    "    print(total)"
   ]
  },
  {
   "cell_type": "code",
   "execution_count": 74,
   "metadata": {},
   "outputs": [
    {
     "name": "stdout",
     "output_type": "stream",
     "text": [
      "3\n"
     ]
    }
   ],
   "source": [
    "adder()"
   ]
  },
  {
   "cell_type": "code",
   "execution_count": 84,
   "metadata": {},
   "outputs": [],
   "source": [
    "def adder(a,b):\n",
    "    total = a+b\n",
    "    #print(total)\n",
    "    return(total)"
   ]
  },
  {
   "cell_type": "code",
   "execution_count": 85,
   "metadata": {},
   "outputs": [
    {
     "data": {
      "text/plain": [
       "22"
      ]
     },
     "execution_count": 85,
     "metadata": {},
     "output_type": "execute_result"
    }
   ],
   "source": [
    "adder(10,12)"
   ]
  },
  {
   "cell_type": "code",
   "execution_count": 77,
   "metadata": {},
   "outputs": [
    {
     "name": "stdout",
     "output_type": "stream",
     "text": [
      "3063\n"
     ]
    }
   ],
   "source": [
    "x=1044\n",
    "y=2019\n",
    "adder(x,y)"
   ]
  },
  {
   "cell_type": "code",
   "execution_count": 88,
   "metadata": {},
   "outputs": [],
   "source": [
    "def si(p,r,t):\n",
    "    SI =(p*r*t)/100\n",
    "    amount= SI+p\n",
    "    # print(amount)\n",
    "    #print(SI)\n",
    "    return(SI,amount)\n",
    "   "
   ]
  },
  {
   "cell_type": "code",
   "execution_count": 89,
   "metadata": {},
   "outputs": [
    {
     "data": {
      "text/plain": [
       "(17.16, 28.16)"
      ]
     },
     "execution_count": 89,
     "metadata": {},
     "output_type": "execute_result"
    }
   ],
   "source": [
    "si(11,12,13)"
   ]
  },
  {
   "cell_type": "code",
   "execution_count": 87,
   "metadata": {},
   "outputs": [],
   "source": [
    "def sphere(r):\n",
    "    area=(4*3.14*r*r)\n",
    "    #print(area)\n",
    "    return(area)"
   ]
  },
  {
   "cell_type": "code",
   "execution_count": 81,
   "metadata": {},
   "outputs": [
    {
     "name": "stdout",
     "output_type": "stream",
     "text": [
      "113.03999999999999\n"
     ]
    }
   ],
   "source": [
    "sphere(3)"
   ]
  },
  {
   "cell_type": "code",
   "execution_count": 91,
   "metadata": {},
   "outputs": [
    {
     "name": "stdout",
     "output_type": "stream",
     "text": [
      "21\n",
      "5538.96\n"
     ]
    }
   ],
   "source": [
    "ans = adder(15,6)\n",
    "print(ans)\n",
    "result = sphere(ans)\n",
    "print(result)"
   ]
  },
  {
   "cell_type": "code",
   "execution_count": 86,
   "metadata": {},
   "outputs": [
    {
     "name": "stdout",
     "output_type": "stream",
     "text": [
      "3\n",
      "total words:8\n"
     ]
    }
   ],
   "source": [
    "# waf to count the number of words in a sentence\n",
    "def word_count(sentence):\n",
    "    words = sentence.split()\n",
    "    return len(words)\n",
    "\n",
    "sentence = \"I am student\"\n",
    "print(word_count(sentence))\n",
    "\n",
    "\n",
    "sentence = 'this is a long sentence with many words,okay?'\n",
    "size = word_count(sentence)\n",
    "print(f\"total words:{size}\")"
   ]
  },
  {
   "cell_type": "code",
   "execution_count": null,
   "metadata": {},
   "outputs": [],
   "source": []
  }
 ],
 "metadata": {
  "kernelspec": {
   "display_name": "base",
   "language": "python",
   "name": "python3"
  },
  "language_info": {
   "codemirror_mode": {
    "name": "ipython",
    "version": 3
   },
   "file_extension": ".py",
   "mimetype": "text/x-python",
   "name": "python",
   "nbconvert_exporter": "python",
   "pygments_lexer": "ipython3",
   "version": "3.12.3"
  }
 },
 "nbformat": 4,
 "nbformat_minor": 2
}
