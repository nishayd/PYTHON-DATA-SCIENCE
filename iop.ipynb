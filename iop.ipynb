{
 "cells": [
  {
   "cell_type": "code",
   "execution_count": 2,
   "metadata": {},
   "outputs": [
    {
     "name": "stdout",
     "output_type": "stream",
     "text": [
      "Hello , I am Alex\n",
      "once upon atime\n",
      "there was a monkey\n",
      " to be continue\n"
     ]
    }
   ],
   "source": [
    "print(\"Hello , I am Alex\")\n",
    "print(\"once upon atime\")\n",
    "print(\"there was a monkey\")\n",
    "print(\" to be continue\")\n"
   ]
  },
  {
   "cell_type": "code",
   "execution_count": 3,
   "metadata": {},
   "outputs": [
    {
     "name": "stdout",
     "output_type": "stream",
     "text": [
      "10 20 200\n",
      "10 * 20 = 200\n"
     ]
    }
   ],
   "source": [
    "a=10\n",
    "b=20\n",
    "c=a*b\n",
    "print(a,b,c)\n",
    "print(a, \"*\", b, \"=\",c)\n"
   ]
  },
  {
   "cell_type": "code",
   "execution_count": 6,
   "metadata": {},
   "outputs": [
    {
     "name": "stdout",
     "output_type": "stream",
     "text": [
      "sara 25 SDE 1\n",
      "Name: sara Age: 25 job: SDE 1\n",
      "Name: sara\n",
      "age: 25\n",
      "job SDE 1\n"
     ]
    }
   ],
   "source": [
    "name = \"sara\"\n",
    "age = 25\n",
    "job = \"SDE 1\"\n",
    "print(name,age,job)\n",
    "print(\"Name:\",name,\"Age:\",age,\"job:\",job )\n",
    "print(\"Name:\",name)\n",
    "print(\"age:\",age)\n",
    "print(\"job\",job)\n"
   ]
  },
  {
   "cell_type": "code",
   "execution_count": 12,
   "metadata": {},
   "outputs": [
    {
     "name": "stdout",
     "output_type": "stream",
     "text": [
      "30000.0\n",
      "SI= P*R*T/100\n",
      "simple interest calculator\n",
      "--------------------\n",
      "principle=120000\n",
      "rate=2.5\n",
      "time=10\n",
      "simple interest=30000.0\n"
     ]
    }
   ],
   "source": [
    "p=120000\n",
    "r=2.5\n",
    "t=10\n",
    "SI= p*r*t/100\n",
    "print(SI)\n",
    "print(\"SI= P*R*T/100\")\n",
    "print(\"simple interest calculator\")\n",
    "print(\"-\"*20)\n",
    "print(f\"principle={p}\")\n",
    "print(f\"rate={r}\")\n",
    "print(f\"time={t}\")\n",
    "print(f\"simple interest={SI}\")\n"
   ]
  },
  {
   "cell_type": "code",
   "execution_count": 25,
   "metadata": {},
   "outputs": [
    {
     "name": "stdout",
     "output_type": "stream",
     "text": [
      "simple interest calculator\n",
      "------------------------------\n",
      "principle            0.12M\n",
      "rate                  2.5%\n",
      "time                   10y\n",
      "------------------------------\n",
      "simple interest      30.0k\n",
      "------------------------------\n"
     ]
    }
   ],
   "source": [
    "print(\"simple interest calculator\")\n",
    "print(\"-\"*30)\n",
    "print(f\"principle {p/1000000 : 15}M\")\n",
    "print(f\"rate {r: 20}%\")\n",
    "print(f\"time {t: 20}y\")\n",
    "print(\"-\"*30)\n",
    "print(f\"simple interest {SI/1000:9}k\")\n",
    "print(\"-\"*30)\n",
    "\n"
   ]
  },
  {
   "cell_type": "code",
   "execution_count": 32,
   "metadata": {},
   "outputs": [
    {
     "name": "stdout",
     "output_type": "stream",
     "text": [
      "\n",
      "You may like it but it dont care\n"
     ]
    }
   ],
   "source": [
    "fav_movie = input(\"Plz enter your movie\")\n",
    "print(fav_movie)\n",
    "print(\"You may like it but it dont care\")"
   ]
  },
  {
   "cell_type": "code",
   "execution_count": 34,
   "metadata": {},
   "outputs": [
    {
     "name": "stdout",
     "output_type": "stream",
     "text": [
      "Result is\n",
      "57\n"
     ]
    }
   ],
   "source": [
    "a = input(\"enter a number\")\n",
    "b = input(\"enter another number \")\n",
    "print(\"Result is\")\n",
    "print(int(a) + int(b))"
   ]
  },
  {
   "cell_type": "code",
   "execution_count": 4,
   "metadata": {},
   "outputs": [
    {
     "name": "stdout",
     "output_type": "stream",
     "text": [
      "area of a sphere 314.0\n"
     ]
    }
   ],
   "source": [
    "pi=3.14\n",
    "r=5\n",
    "area=4*pi*r**2\n",
    "print(\"area of a sphere\",area)\n"
   ]
  },
  {
   "cell_type": "code",
   "execution_count": null,
   "metadata": {},
   "outputs": [],
   "source": []
  }
 ],
 "metadata": {
  "kernelspec": {
   "display_name": "base",
   "language": "python",
   "name": "python3"
  },
  "language_info": {
   "codemirror_mode": {
    "name": "ipython",
    "version": 3
   },
   "file_extension": ".py",
   "mimetype": "text/x-python",
   "name": "python",
   "nbconvert_exporter": "python",
   "pygments_lexer": "ipython3",
   "version": "3.12.3"
  }
 },
 "nbformat": 4,
 "nbformat_minor": 2
}
