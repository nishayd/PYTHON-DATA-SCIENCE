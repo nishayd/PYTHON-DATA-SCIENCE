{
 "cells": [
  {
   "cell_type": "code",
   "execution_count": null,
   "metadata": {},
   "outputs": [],
   "source": []
  },
  {
   "cell_type": "markdown",
   "metadata": {},
   "source": [
    "conditions in python\n",
    "1.block of code\n",
    "- if,if else,elif,while,for,try,except,finally,with,def,class\n",
    "2.if condition\n",
    "3.if else condition\n",
    "4.if elif ladder\n",
    "5.nested if else\n",
    "6.short hand if else\n",
    "7.match case\n"
   ]
  },
  {
   "cell_type": "code",
   "execution_count": null,
   "metadata": {},
   "outputs": [],
   "source": []
  },
  {
   "cell_type": "code",
   "execution_count": 5,
   "metadata": {},
   "outputs": [
    {
     "name": "stdout",
     "output_type": "stream",
     "text": [
      "bye\n"
     ]
    }
   ],
   "source": [
    "a= -10\n",
    "if a>5:\n",
    "    print(\"a is greater than 5\")\n",
    "    print(\"hi\")\n",
    "print(\"bye\")\n",
    "\n"
   ]
  },
  {
   "cell_type": "code",
   "execution_count": 6,
   "metadata": {},
   "outputs": [
    {
     "name": "stdout",
     "output_type": "stream",
     "text": [
      "very good,you know how to type long words 😒\n"
     ]
    }
   ],
   "source": [
    "word = input(\"enter a long word\")\n",
    "if len(word)> 10:\n",
    "    print(\"very good,you know how to type long words 😒\")"
   ]
  },
  {
   "cell_type": "code",
   "execution_count": 7,
   "metadata": {},
   "outputs": [
    {
     "name": "stdout",
     "output_type": "stream",
     "text": [
      "not 100\n"
     ]
    }
   ],
   "source": [
    "\n",
    "n=[1,2,3,4,5]\n",
    "if sum(n)>100:\n",
    "    print(\"yay 100 \")\n",
    "else:\n",
    "    print(\"not 100\")\n",
    "    "
   ]
  },
  {
   "cell_type": "code",
   "execution_count": 9,
   "metadata": {},
   "outputs": [
    {
     "name": "stdout",
     "output_type": "stream",
     "text": [
      "a,b,c,d are not a divisible of 2\n"
     ]
    }
   ],
   "source": [
    "a = 180\n",
    "b = 65\n",
    "c = 76\n",
    "d =  88\n",
    "if a and b and c and d % 2 :\n",
    "    print(\"a,b,c,d are mutiple of 2\")\n",
    "else:\n",
    "    print(\"a,b,c,d are not a divisible of 2\")\n"
   ]
  }
 ],
 "metadata": {
  "kernelspec": {
   "display_name": "base",
   "language": "python",
   "name": "python3"
  },
  "language_info": {
   "codemirror_mode": {
    "name": "ipython",
    "version": 3
   },
   "file_extension": ".py",
   "mimetype": "text/x-python",
   "name": "python",
   "nbconvert_exporter": "python",
   "pygments_lexer": "ipython3",
   "version": "3.12.3"
  }
 },
 "nbformat": 4,
 "nbformat_minor": 2
}
