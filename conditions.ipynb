{
 "cells": [
  {
   "cell_type": "code",
   "execution_count": null,
   "metadata": {},
   "outputs": [],
   "source": []
  },
  {
   "cell_type": "markdown",
   "metadata": {},
   "source": [
    "conditions in python\n",
    "1.block of code\n",
    "- if,if else,elif,while,for,try,except,finally,with,def,class\n",
    "2.if condition\n",
    "3.if else condition\n",
    "4.if elif ladder\n",
    "5.nested if else\n",
    "6.short hand if else\n",
    "7.match case\n"
   ]
  },
  {
   "cell_type": "code",
   "execution_count": null,
   "metadata": {},
   "outputs": [],
   "source": []
  },
  {
   "cell_type": "code",
   "execution_count": 5,
   "metadata": {},
   "outputs": [
    {
     "name": "stdout",
     "output_type": "stream",
     "text": [
      "bye\n"
     ]
    }
   ],
   "source": [
    "a= -10\n",
    "if a>5:\n",
    "    print(\"a is greater than 5\")\n",
    "    print(\"hi\")\n",
    "print(\"bye\")\n",
    "\n"
   ]
  },
  {
   "cell_type": "code",
   "execution_count": 6,
   "metadata": {},
   "outputs": [
    {
     "name": "stdout",
     "output_type": "stream",
     "text": [
      "very good,you know how to type long words 😒\n"
     ]
    }
   ],
   "source": [
    "word = input(\"enter a long word\")\n",
    "if len(word)> 10:\n",
    "    print(\"very good,you know how to type long words 😒\")"
   ]
  },
  {
   "cell_type": "code",
   "execution_count": 7,
   "metadata": {},
   "outputs": [
    {
     "name": "stdout",
     "output_type": "stream",
     "text": [
      "not 100\n"
     ]
    }
   ],
   "source": [
    "\n",
    "n=[1,2,3,4,5]\n",
    "if sum(n)>100:\n",
    "    print(\"yay 100 \")\n",
    "else:\n",
    "    print(\"not 100\")\n",
    "    "
   ]
  },
  {
   "cell_type": "code",
   "execution_count": 9,
   "metadata": {},
   "outputs": [
    {
     "name": "stdout",
     "output_type": "stream",
     "text": [
      "a,b,c,d are not a divisible of 2\n"
     ]
    }
   ],
   "source": [
    "a = 180\n",
    "b = 65\n",
    "c = 76\n",
    "d =  88\n",
    "if a and b and c and d % 2 :\n",
    "    print(\"a,b,c,d are mutiple of 2\")\n",
    "else:\n",
    "    print(\"a,b,c,d are not a divisible of 2\")\n"
   ]
  },
  {
   "cell_type": "markdown",
   "metadata": {},
   "source": [
    "# elif latter\n",
    "use for multiple conditions\n"
   ]
  },
  {
   "cell_type": "code",
   "execution_count": 1,
   "metadata": {},
   "outputs": [
    {
     "name": "stdout",
     "output_type": "stream",
     "text": [
      "grade is A\n"
     ]
    }
   ],
   "source": [
    "marks = 90\n",
    "if marks > 85:\n",
    "    grade = \"A\"\n",
    "elif marks > 70:\n",
    "    grade = \"B\"\n",
    "elif marks  > 60 :\n",
    "    grade = \"C\"\n",
    "elif marks >50:\n",
    "    grade = \"D\"\n",
    "else:\n",
    "    grade = \"F\"\n",
    "print(f\"grade is {grade}\")\n"
   ]
  },
  {
   "cell_type": "code",
   "execution_count": 3,
   "metadata": {},
   "outputs": [
    {
     "name": "stdout",
     "output_type": "stream",
     "text": [
      "B 20 is the largest\n"
     ]
    }
   ],
   "source": [
    "# find the largest number\n",
    "a = 10  \n",
    "b = 20\n",
    "c = 14\n",
    "if a > b and a > c :\n",
    "    print(f\" A {a} is the largest\")\n",
    "elif b > a and b > c :\n",
    "    print(f\"B {b} is the largest\")\n",
    "else:\n",
    "    print(f\"C{c} is the largest\")\n"
   ]
  },
  {
   "cell_type": "code",
   "execution_count": 4,
   "metadata": {},
   "outputs": [
    {
     "name": "stdout",
     "output_type": "stream",
     "text": [
      " 💀enter valid details 💀\n"
     ]
    }
   ],
   "source": [
    "# nested if\n",
    "un = input(\"enter the username\")\n",
    "pw = input(\"enter the password\")\n",
    "if un != '' and pw != '':\n",
    "    if un == \"admin\":\n",
    "        if pw == 'admin':\n",
    "            print(\"✅ welcome , admin\")\n",
    "        else:\n",
    "            print(\" 💀wrong password\")\n",
    "    else:\n",
    "        print(\"❌invalid usename\")\n",
    "else:\n",
    "    print(\" 💀enter valid details 💀\")\n",
    "\n"
   ]
  },
  {
   "cell_type": "code",
   "execution_count": 8,
   "metadata": {},
   "outputs": [
    {
     "name": "stdout",
     "output_type": "stream",
     "text": [
      "✅\n",
      "✅\n"
     ]
    }
   ],
   "source": [
    "#short hand if else\n",
    "a = 13\n",
    "# if a >= 10:\n",
    "#     print(\"✅✅✅\")\n",
    "# else:\n",
    "#     print(\"❌❌❌\")\n",
    "print(\"✅\") if a >10 else print(\"❌\")\n",
    "print(\"✅\" if a >= 10 else \"💀\")\n"
   ]
  },
  {
   "cell_type": "code",
   "execution_count": 12,
   "metadata": {},
   "outputs": [
    {
     "name": "stdout",
     "output_type": "stream",
     "text": [
      "menu\n",
      "1. pizza\n",
      "2. burger\n",
      "3. pasta\n",
      "4. sadwich\n",
      " enter a number\n",
      " your order is pizza \n",
      " total amount = 400\n"
     ]
    }
   ],
   "source": [
    "#vmatch case (not similar to switch case)\n",
    "print(\"menu\")\n",
    "print(\"1. pizza\")\n",
    "print(\"2. burger\")\n",
    "print(\"3. pasta\")\n",
    "print(\"4. sadwich\")\n",
    "print(\" enter a number\")\n",
    "ch = int(input(\">>>\"))\n",
    "match ch :\n",
    "    case 1:\n",
    "        print(\" your order is pizza \\n total amount = 400\")\n",
    "    case 2:\n",
    "        print(\"your order is burger \\n toatal amount = 199\")\n",
    "    case 3:\n",
    "        print(\"your order is sanwich \\n total amount = 299\")\n",
    "    case 4:\n",
    "          print(\"your order is pasta \\n total amount = 99\")\n",
    "    case _:\n",
    "        print(\" invalid choice\")"
   ]
  },
  {
   "cell_type": "code",
   "execution_count": 13,
   "metadata": {},
   "outputs": [
    {
     "name": "stdout",
     "output_type": "stream",
     "text": [
      "1. pizza\n",
      "2. burger\n",
      "3. pasta\n",
      "4. sadwich\n",
      " enter a number\n",
      " your order is pizza \n",
      " total amount = 400\n"
     ]
    }
   ],
   "source": [
    "# with using if  else print(\"menu\")\n",
    "print(\"1. pizza\")\n",
    "print(\"2. burger\")\n",
    "print(\"3. pasta\")\n",
    "print(\"4. sadwich\")\n",
    "print(\" enter a number\")\n",
    "ch = int(input(\">>>\"))\n",
    "if ch == 1:\n",
    "    print(\" your order is pizza \\n total amount = 400\")\n",
    "elif ch== 2:\n",
    "        print(\"your order is burger \\n toatal amount = 199\")\n",
    "elif ch == 3:\n",
    "        print(\"your order is sanwich \\n total amount = 299\")\n",
    "elif ch == 4:\n",
    "    print(\"your order is pasta \\n total amount = 99\")\n",
    "else:\n",
    "    print(\" invalid choice\")\n",
    "\n"
   ]
  },
  {
   "cell_type": "code",
   "execution_count": null,
   "metadata": {},
   "outputs": [],
   "source": [
    "\n"
   ]
  }
 ],
 "metadata": {
  "kernelspec": {
   "display_name": "base",
   "language": "python",
   "name": "python3"
  },
  "language_info": {
   "codemirror_mode": {
    "name": "ipython",
    "version": 3
   },
   "file_extension": ".py",
   "mimetype": "text/x-python",
   "name": "python",
   "nbconvert_exporter": "python",
   "pygments_lexer": "ipython3",
   "version": "3.12.3"
  }
 },
 "nbformat": 4,
 "nbformat_minor": 2
}
