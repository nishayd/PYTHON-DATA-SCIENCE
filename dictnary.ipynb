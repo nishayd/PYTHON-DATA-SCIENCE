{
 "cells": [
  {
   "cell_type": "markdown",
   "metadata": {},
   "source": [
    "DICTIONARY\n",
    "- How to declare it\n",
    "-How to access key and values of a dictionary\n",
    "- How to use loops in dictionary"
   ]
  },
  {
   "cell_type": "code",
   "execution_count": 2,
   "metadata": {},
   "outputs": [
    {
     "name": "stdout",
     "output_type": "stream",
     "text": [
      "{'name': 'john', 'class': '12th', 'roll no': 12, 'age': 17}\n"
     ]
    }
   ],
   "source": [
    "students = {\"name\":\"john\",\n",
    "            \"class\":\"12th\",\n",
    "             \"roll no\":12,\n",
    "              \"age\":17\n",
    "}\n",
    "print(students)"
   ]
  },
  {
   "cell_type": "code",
   "execution_count": 41,
   "metadata": {},
   "outputs": [
    {
     "name": "stdout",
     "output_type": "stream",
     "text": [
      "{'lucknow': [25, 30, 35], 'delhi': [30, 35, 40], 'chennai': [24, 23, 22]}\n"
     ]
    }
   ],
   "source": [
    "temp={\n",
    "    'lucknow':[25,30,35],\n",
    "    'delhi':[30,35,40],\n",
    "    'chennai':[24,23,22]\n",
    "}\n",
    "print(temp)"
   ]
  },
  {
   "cell_type": "code",
   "execution_count": 4,
   "metadata": {},
   "outputs": [
    {
     "name": "stdout",
     "output_type": "stream",
     "text": [
      "{'name': 'riya', 'age': 27, 'dept': 'HR', 'salary': 30000}\n"
     ]
    }
   ],
   "source": [
    "info = dict(name=\"riya\",age=27,dept='HR',salary=30000)\n",
    "print(info)"
   ]
  },
  {
   "cell_type": "code",
   "execution_count": 5,
   "metadata": {},
   "outputs": [
    {
     "name": "stdout",
     "output_type": "stream",
     "text": [
      "{'name': 'nisha', 'age': 22, 'dept': 'hr', 'salary': 30000}\n"
     ]
    }
   ],
   "source": [
    "info2 = dict(name=input(\"enter the name\"),age = int(input(\"enter the age\")),dept= input(\"enter the department\"),salary=int(input(\"enter the salary\"))) \n",
    "print(info2)"
   ]
  },
  {
   "cell_type": "code",
   "execution_count": 12,
   "metadata": {},
   "outputs": [
    {
     "name": "stdout",
     "output_type": "stream",
     "text": [
      "john\n",
      "12\n"
     ]
    }
   ],
   "source": [
    "# 1st Method \n",
    "print(students['name'])\n",
    "print(students['roll no'])"
   ]
  },
  {
   "cell_type": "code",
   "execution_count": 13,
   "metadata": {},
   "outputs": [
    {
     "name": "stdout",
     "output_type": "stream",
     "text": [
      "john\n",
      "17\n"
     ]
    }
   ],
   "source": [
    "#2 Method \n",
    "print(students.get(\"name\"))\n",
    "print(students.get('age'))"
   ]
  },
  {
   "cell_type": "code",
   "execution_count": 15,
   "metadata": {},
   "outputs": [
    {
     "name": "stdout",
     "output_type": "stream",
     "text": [
      "{'name': 'john', 'class': '12th', 'roll no': 12, 'age': 17, 'school': 'DPS', 'city': 'LUCKNOW'}\n"
     ]
    }
   ],
   "source": [
    "# To add item in a dictionary \n",
    "students['school'] = 'DPS'\n",
    "students['city'] = 'LUCKNOW'\n",
    "print(students)"
   ]
  },
  {
   "cell_type": "code",
   "execution_count": 17,
   "metadata": {},
   "outputs": [
    {
     "name": "stdout",
     "output_type": "stream",
     "text": [
      "name\n",
      "class\n",
      "roll no\n",
      "age\n",
      "school\n",
      "city\n"
     ]
    }
   ],
   "source": [
    "for x in students:\n",
    "    print(x)"
   ]
  },
  {
   "cell_type": "code",
   "execution_count": 18,
   "metadata": {},
   "outputs": [
    {
     "name": "stdout",
     "output_type": "stream",
     "text": [
      "name : john\n",
      "class : 12th\n",
      "roll no : 12\n",
      "age : 17\n",
      "school : DPS\n",
      "city : LUCKNOW\n"
     ]
    }
   ],
   "source": [
    "for k,v in students.items():\n",
    "    print(f'{k} : {v}')\n"
   ]
  },
  {
   "cell_type": "code",
   "execution_count": 22,
   "metadata": {},
   "outputs": [
    {
     "name": "stdout",
     "output_type": "stream",
     "text": [
      "dict_keys(['name', 'class', 'roll no', 'age', 'school', 'city'])\n",
      "dict_values(['john', '12th', 12, 17, 'DPS', 'LUCKNOW'])\n",
      "dict_items([('name', 'john'), ('class', '12th'), ('roll no', 12), ('age', 17), ('school', 'DPS'), ('city', 'LUCKNOW')])\n"
     ]
    }
   ],
   "source": [
    "\n",
    "print(students.keys())\n",
    "print(students.values())\n",
    "print(students.items())"
   ]
  },
  {
   "cell_type": "code",
   "execution_count": 34,
   "metadata": {},
   "outputs": [
    {
     "name": "stdout",
     "output_type": "stream",
     "text": [
      "{'emp001': {'name': 'john', 'age': 27, 'department': 'HR', 'salary': 30000}, 'emp002': {'name': 'riya', 'age': 25, 'department': 'IT', 'salary': 40000}, 'emp003': {'name': 'mike', 'age': 30, 'department': 'finance', 'salary': 35000}}\n"
     ]
    }
   ],
   "source": [
    "company = {\n",
    "    \"emp001\" : {\n",
    "        'name': \"john\",\n",
    "        \"age\" : 27,\n",
    "        'department' :  \"HR\" ,\n",
    "        'salary' : 30000\n",
    "    },\n",
    "    \"emp002\" : {\n",
    "        'name': \"riya\",\n",
    "        \"age\" : 25,\n",
    "        'department' :  \"IT\" ,\n",
    "        'salary' : 40000\n",
    "    },\n",
    "    \"emp003\" : {\n",
    "        'name': 'mike',\n",
    "        'age' : 30,\n",
    "        'department' :  'finance' ,\n",
    "        'salary' : 35000\n",
    "    }\n",
    "}\n",
    "print(company)"
   ]
  },
  {
   "cell_type": "code",
   "execution_count": 35,
   "metadata": {},
   "outputs": [],
   "source": [
    "from pprint import pp\n"
   ]
  },
  {
   "cell_type": "code",
   "execution_count": 36,
   "metadata": {},
   "outputs": [
    {
     "name": "stdout",
     "output_type": "stream",
     "text": [
      "{'emp001': {'name': 'john', 'age': 27, 'department': 'HR', 'salary': 30000},\n",
      " 'emp002': {'name': 'riya', 'age': 25, 'department': 'IT', 'salary': 40000},\n",
      " 'emp003': {'name': 'mike',\n",
      "            'age': 30,\n",
      "            'department': 'finance',\n",
      "            'salary': 35000}}\n"
     ]
    }
   ],
   "source": [
    "pp(company)"
   ]
  },
  {
   "cell_type": "code",
   "execution_count": 31,
   "metadata": {},
   "outputs": [
    {
     "name": "stdout",
     "output_type": "stream",
     "text": [
      "HR\n"
     ]
    }
   ],
   "source": [
    "print(company['emp001']['department'])"
   ]
  },
  {
   "cell_type": "code",
   "execution_count": 38,
   "metadata": {},
   "outputs": [
    {
     "name": "stdout",
     "output_type": "stream",
     "text": [
      "{'emp001': {'name': 'john', 'age': 27, 'department': 'HR', 'salary': 30000},\n",
      " 'emp002': {'name': 'riya', 'age': 25, 'department': 'IT', 'salary': 40000},\n",
      " 'emp003': {'name': 'mike',\n",
      "            'age': 30,\n",
      "            'department': 'finance',\n",
      "            'salary': 35000},\n",
      " 'emp004': {'name': 'sam', 'department': 'admin', 'age': 27, 'salary': 25000}}\n"
     ]
    }
   ],
   "source": [
    "company['emp004'] = {\n",
    "    'name' : 'sam',\n",
    "    'department' : 'admin',\n",
    "    'age' : 27,\n",
    "    'salary' : 25000\n",
    "}\n",
    "pp(company)\n"
   ]
  },
  {
   "cell_type": "code",
   "execution_count": 42,
   "metadata": {},
   "outputs": [
    {
     "name": "stdout",
     "output_type": "stream",
     "text": [
      "30\n",
      "40\n"
     ]
    }
   ],
   "source": [
    "print(temp['lucknow'][1])\n",
    "print(temp['delhi'][2])"
   ]
  },
  {
   "cell_type": "code",
   "execution_count": 47,
   "metadata": {},
   "outputs": [
    {
     "name": "stdout",
     "output_type": "stream",
     "text": [
      "35.0\n"
     ]
    }
   ],
   "source": [
    "avg = sum(temp['delhi'])/len(temp['delhi'])\n",
    "print(avg)"
   ]
  },
  {
   "cell_type": "code",
   "execution_count": 48,
   "metadata": {},
   "outputs": [
    {
     "name": "stdout",
     "output_type": "stream",
     "text": [
      "average temperature in Delhi : 35.0\n"
     ]
    }
   ],
   "source": [
    "print('average temperature in Delhi :' , sum(temp['delhi'])/len(temp['delhi']))"
   ]
  },
  {
   "cell_type": "code",
   "execution_count": 49,
   "metadata": {},
   "outputs": [
    {
     "name": "stdout",
     "output_type": "stream",
     "text": [
      "{'Alex': {'english': 85, 'maths': 80, 'science': 78},\n",
      " 'rahul': {'english': 90, 'maths': 85, 'science': 90}}\n"
     ]
    }
   ],
   "source": [
    "report = {\n",
    "    'Alex' :{\n",
    "        'english' : 85,\n",
    "        'maths'   : 80,\n",
    "        'science' : 78,\n",
    "},\n",
    "    'rahul': {\n",
    "        'english' : 90,\n",
    "        'maths'   : 85,\n",
    "        'science'   : 90\n",
    "    },\n",
    "}\n",
    "pp(report)\n"
   ]
  },
  {
   "cell_type": "code",
   "execution_count": 53,
   "metadata": {},
   "outputs": [
    {
     "name": "stdout",
     "output_type": "stream",
     "text": [
      "Alex\n",
      "-> english 85\n",
      "-> maths 80\n",
      "-> science 78\n",
      "->Total marks: 243\n",
      "rahul\n",
      "-> english 90\n",
      "-> maths 85\n",
      "-> science 90\n",
      "->Total marks: 265\n"
     ]
    }
   ],
   "source": [
    "for student , marks , in report.items():\n",
    "    print(student)\n",
    "    for subject,mark in marks.items():\n",
    "        print('->', subject, mark)\n",
    "    print('->Total marks:', sum(marks.values()))"
   ]
  },
  {
   "cell_type": "code",
   "execution_count": null,
   "metadata": {},
   "outputs": [],
   "source": []
  }
 ],
 "metadata": {
  "kernelspec": {
   "display_name": "base",
   "language": "python",
   "name": "python3"
  },
  "language_info": {
   "codemirror_mode": {
    "name": "ipython",
    "version": 3
   },
   "file_extension": ".py",
   "mimetype": "text/x-python",
   "name": "python",
   "nbconvert_exporter": "python",
   "pygments_lexer": "ipython3",
   "version": "3.12.3"
  }
 },
 "nbformat": 4,
 "nbformat_minor": 2
}
